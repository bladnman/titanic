{
 "cells": [
  {
   "cell_type": "code",
   "execution_count": null,
   "metadata": {
    "pycharm": {
     "name": "#%%\n"
    }
   },
   "outputs": [],
   "source": [
    "import pandas as pd\n",
    "import seaborn as sns\n",
    "import matplotlib.pyplot as plt\n",
    "import numpy as np\n",
    "import plotly.express as px"
   ]
  },
  {
   "cell_type": "code",
   "execution_count": null,
   "metadata": {
    "pycharm": {
     "name": "#%%\n"
    }
   },
   "outputs": [],
   "source": [
    "# Input data files are available in the read-only \"../input/\" directory\n",
    "# For example, running this (by clicking run or pressing Shift+Enter) will list all files under the input directory\n",
    "import os\n",
    "for dirname, _, filenames in os.walk('/kaggle/input'):\n",
    "    for filename in filenames:\n",
    "        print(os.path.join(dirname, filename))\n",
    "\n",
    "# You can write up to 20GB to the current directory (/kaggle/working/) that gets preserved as output when you create a version using \"Save & Run All\" \n",
    "# You can also write temporary files to /kaggle/temp/, but they won't be saved outside of the current session"
   ]
  },
  {
   "cell_type": "code",
   "execution_count": null,
   "metadata": {
    "pycharm": {
     "name": "#%%\n"
    }
   },
   "outputs": [],
   "source": [
    "\n",
    "age_mister = 20\n",
    "age_misses = 20\n",
    "\n",
    "\n",
    "def read_raw_titanic(path):\n",
    "    return pd.read_csv(path)\n",
    "\n",
    "def read_clean_titanic(path, use_dummies=True):\n",
    "    df = clean_titanic(read_raw_titanic(path), use_dummies)\n",
    "    return df\n",
    "\n",
    "def clean_titanic(df, use_dummies=True):\n",
    "    def val_contains_any(val, list):\n",
    "        for item in list:\n",
    "            if item in val:\n",
    "                return True\n",
    "        return False\n",
    "    def is_parent(row):\n",
    "        if row['Parch'] > 0:\n",
    "            if (is_mister(row)) or (is_misses(row)):\n",
    "                return True\n",
    "        return False\n",
    "    def is_child(row):\n",
    "        if row['Parch'] > 0:\n",
    "            if (is_master(row)) or (is_miss(row)):\n",
    "                return True\n",
    "        return False\n",
    "\n",
    "    def age_cat(row):\n",
    "        if is_master(row): return \"master\"\n",
    "        if is_miss(row): return \"miss\"\n",
    "        if is_misses(row): return \"misses\"\n",
    "        return \"mister\"\n",
    "\n",
    "    def is_male(row):\n",
    "        return row['Sex'] == \"male\"\n",
    "\n",
    "    def is_female(row):\n",
    "        return row['Sex'] == \"female\"\n",
    "\n",
    "    def is_master(row):\n",
    "        if is_male(row) == False: return False\n",
    "        if row[\"Age\"] is not None and row[\"Age\"] < age_mister: return True\n",
    "        # if we didn't have age, use title\n",
    "        return is_male(row) and val_contains_any(row[\"Name\"], [\"Master.\"])\n",
    "\n",
    "    def is_mister(row):\n",
    "        if is_male(row) == False: return False\n",
    "        if row[\"Age\"] is not None and row[\"Age\"] >= age_mister: return True\n",
    "        # if we didn't have age, use title\n",
    "        return val_contains_any(row[\"Name\"], [\"Mr.\", \"Mister.\",\"Dr.\",\"Don.\",\"Rev.\",\"Col.\",\"Capt.\",\"Major.\",\"Sir.\",\"Jonkheer.\"])\n",
    "\n",
    "    def is_miss(row):\n",
    "        if is_female(row) == False: return False\n",
    "        if row[\"Age\"] is not None and row[\"Age\"] >= age_misses: return True\n",
    "        # if we didn't have age, use title\n",
    "        return val_contains_any(row[\"Name\"], [\"Miss.\",\"Ms.\",\"Mlle.\"])\n",
    "\n",
    "    def is_misses(row):\n",
    "        if is_female(row) == False: return False\n",
    "        if row[\"Age\"] is not None and row[\"Age\"] < age_misses: return True\n",
    "        # if we didn't have age, use title\n",
    "        return val_contains_any(row[\"Name\"], [\"Mrs.\",\"Mme.\",\"Countess.\",\"Lady.\"])\n",
    "    \n",
    "    # def age_cat(row):\n",
    "    #     if is_master(row): return \"master\"\n",
    "    #     if is_miss(row): return \"miss\"\n",
    "    #     if is_misses(row): return \"misses\"\n",
    "    #     if is_mister(row): return \"mister\"\n",
    "    df[\"sex_cat\"]             = df['Sex']\n",
    "    df['is_female']           = df[\"Sex\"].map(lambda x: 1 if x == \"female\" else 0)\n",
    "    df['is_family']           = df.apply(lambda x: 1 if x['SibSp'] > 0 or x['Parch'] > 0 else 0, axis=1)\n",
    "    df['is_parent']           = df.apply(lambda x: 1 if is_parent(x) else 0, axis=1)\n",
    "    df['is_child']            = df.apply(lambda x: 1 if is_child(x) else 0, axis=1)\n",
    "\n",
    "    df['has_raw_age']         = df[\"Age\"].map(lambda x: 1 if x > 0 else 0)\n",
    "    df['is_age_estimated']    = df[\"Age\"].map(lambda x: 1 if \".5\" in str(x) else 0)\n",
    "    df['is_age_infant']       = df[\"Age\"].map(lambda x: 1 if x < 1 else 0)\n",
    "    df['is_age_child']        = df[\"Age\"].map(lambda x: 1 if x >= 1 and x < 13 else 0)\n",
    "    df['is_age_teen']         = df[\"Age\"].map(lambda x: 1 if x >= 13 and x < 20 else 0)\n",
    "    df['is_age_young_adult']  = df[\"Age\"].map(lambda x: 1 if x >= 20 and x < 27 else 0)\n",
    "    df['is_age_adult']        = df[\"Age\"].map(lambda x: 1 if x >= 27 and x < 45 else 0)\n",
    "    df['is_age_old_adult']    = df[\"Age\"].map(lambda x: 1 if x >= 45 and x < 65 else 0)\n",
    "    df['is_age_elderly']      = df[\"Age\"].map(lambda x: 1 if x >= 65 else 0)\n",
    "\n",
    "    # age groups\n",
    "    df['is_age_master']       = df.apply(lambda x: 1 if is_master(x) else 0, axis=1)\n",
    "    df['is_age_mister']       = df.apply(lambda x: 1 if is_mister(x) else 0, axis=1)\n",
    "    df['is_age_miss']         = df.apply(lambda x: 1 if is_miss(x) else 0, axis=1)\n",
    "    df['is_age_misses']       = df.apply(lambda x: 1 if is_misses(x) else 0, axis=1)\n",
    "    df['raw_age']             = df['Age']\n",
    "\n",
    "    master_age_mean           = df[(df['is_age_master'] == 1) & (df[\"has_raw_age\"] == 1)]['Age'].mean()\n",
    "    mister_age_mean           = df[(df['is_age_mister'] == 1) & (df[\"has_raw_age\"] == 1)]['Age'].mean()\n",
    "    miss_age_mean             = df[(df['is_age_miss'] == 1)   & (df[\"has_raw_age\"] == 1)]['Age'].mean()\n",
    "    misses_age_mean           = df[(df['is_age_misses'] == 1) & (df[\"has_raw_age\"] == 1)]['Age'].mean()\n",
    "    \n",
    "    df['age_cat']             = df.apply(lambda x: age_cat(x), axis=1)\n",
    "    \n",
    "    df['Age']                 = np.where((df['is_age_master']==1) & (df['Age'].isna()), master_age_mean, df['Age'])\n",
    "    df['Age']                 = np.where((df['is_age_mister']==1) & (df['Age'].isna()), mister_age_mean, df['Age'])\n",
    "    df['Age']                 = np.where((df['is_age_miss']==1)   & (df['Age'].isna()), miss_age_mean, df['Age'])\n",
    "    df['Age']                 = np.where((df['is_age_misses']==1) & (df['Age'].isna()), misses_age_mean, df['Age'])\n",
    "\n",
    "    if (\"Survived\" in df.columns):\n",
    "        df[\"Survival Status\"] = df['Survived'].map({1: \"Survived\", 0: \"Died\"})\n",
    "        df[\"survival_cat\"] = df[\"Survival Status\"]\n",
    "\n",
    "    ## \n",
    "    ## CLEAN-UP\n",
    "    # 2 people with no embarked are hard to match with other values, drop them\n",
    "    df                        = df[df[\"Embarked\"].isna() == False]\n",
    "\n",
    "    # trmming down\n",
    "    # 'PassengerId', \n",
    "    df = df.drop(columns=['Name', 'Ticket', \n",
    "                        'Cabin', 'raw_age', \n",
    "                        'has_raw_age','is_age_estimated',\n",
    "                        'SibSp', 'Parch'])\n",
    "\n",
    "    ## DUMMIES\n",
    "    final_df = df\n",
    "    if use_dummies:\n",
    "        final_df = pd.get_dummies(final_df)\n",
    "    \n",
    "    return final_df"
   ]
  },
  {
   "cell_type": "code",
   "execution_count": null,
   "metadata": {
    "pycharm": {
     "name": "#%%\n"
    }
   },
   "outputs": [],
   "source": [
    "def survival_in_feature_group(df, field):\n",
    "    sums_df = df[[field, \"PassengerId\", \"Survived\"]].groupby(field).sum()\n",
    "    grouper = df[[field, \"PassengerId\", \"Survived\"]].groupby(field)\n",
    "    res =  grouper.count()\n",
    "    res['total'] = res[\"PassengerId\"]\n",
    "    res['survived_count'] = sums_df[\"Survived\"]\n",
    "    res['survived_perc'] = round(res['survived_count'] / res['total'] * 100, 2)\n",
    "    res = res.reset_index()[[field, 'total', 'survived_count', 'survived_perc']]\n",
    "    return res"
   ]
  },
  {
   "cell_type": "code",
   "execution_count": null,
   "metadata": {
    "pycharm": {
     "name": "#%%\n"
    }
   },
   "outputs": [],
   "source": [
    "import pandas as pd\n",
    "import seaborn as sns\n",
    "\n",
    "def plotting_percentages(df, col, target):\n",
    "    x, y = col, target\n",
    "    \n",
    "    # Temporary dataframe with percentage values\n",
    "    temp_df = df.groupby(x)[y].value_counts(normalize=True)\n",
    "    temp_df = temp_df.mul(100).rename('percent').reset_index()\n",
    "\n",
    "    # Sort the column values for plotting    \n",
    "    order_list = list(df[col].unique())\n",
    "    order_list.sort()\n",
    "\n",
    "    # Plot the figure\n",
    "    sns.set(font_scale=1.5)\n",
    "    g = sns.catplot(x=x, y='percent', hue=y,kind='bar', data=temp_df, \n",
    "                    height=8, aspect=2, order=order_list, legend_out=False)\n",
    "    g.ax.set_ylim(0,100)\n",
    "\n",
    "    # Loop through each bar in the graph and add the percentage value    \n",
    "    for p in g.ax.patches:\n",
    "        txt = str(p.get_height().round(1)) + '%'\n",
    "        txt_x = p.get_x() \n",
    "        txt_y = p.get_height()\n",
    "        g.ax.text(txt_x,txt_y,txt)\n",
    "        \n",
    "    # Set labels and title\n",
    "    plt.title(f'{col.title()} By Percent {target.title()}', \n",
    "              fontdict={'fontsize': 30})\n",
    "    plt.xlabel(f'{col.title()}', fontdict={'fontsize': 20})\n",
    "    plt.ylabel(f'{target.title()} Percentage', fontdict={'fontsize': 20})\n",
    "    plt.xticks(rotation=75)\n",
    "    return g"
   ]
  },
  {
   "cell_type": "code",
   "execution_count": null,
   "metadata": {
    "pycharm": {
     "name": "#%%\n"
    }
   },
   "outputs": [],
   "source": [
    "def confusion_heat_map(confusion_matrix):\n",
    "    group_names = ['True Neg','False Pos','False Neg','True Pos']\n",
    "    group_counts = [\"{0:0.0f}\".format(value) for value in confusion_matrix.flatten()]\n",
    "    group_percentages = [\"{0:.2%}\".format(value) for value in confusion_matrix.flatten()/np.sum(confusion_matrix)]\n",
    "    labels = [f\"{v1}\\n{v2}\\n{v3}\" for v1, v2, v3 in zip(group_names,group_counts,group_percentages) ]\n",
    "    labels = np.asarray(labels).reshape(2,2)\n",
    "    sns.heatmap(confusion_matrix, annot=labels, fmt='', cmap='Blues')"
   ]
  }
 ],
 "metadata": {
  "language_info": {
   "name": "python"
  },
  "orig_nbformat": 4
 },
 "nbformat": 4,
 "nbformat_minor": 2
}